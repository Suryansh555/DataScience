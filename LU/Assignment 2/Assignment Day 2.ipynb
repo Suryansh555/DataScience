{
 "cells": [
  {
   "cell_type": "markdown",
   "metadata": {},
   "source": [
    "## Question 1"
   ]
  },
  {
   "cell_type": "code",
   "execution_count": 24,
   "metadata": {},
   "outputs": [
    {
     "name": "stdout",
     "output_type": "stream",
     "text": [
      "Please Enter 10 Elements\n",
      "1\n",
      "1\n",
      "1\n",
      "1\n",
      "2\n",
      "3\n",
      "4\n",
      "5\n",
      "6\n",
      "7\n",
      "[2, 4, 6]\n"
     ]
    }
   ],
   "source": [
    "lst = []\n",
    "print(\"Please Enter 10 Elements\")\n",
    "for i in range(10):\n",
    "    num = int(input())\n",
    "    if( num % 2 == 0):\n",
    "        lst.append(num)\n",
    "        \n",
    "print(lst)    "
   ]
  },
  {
   "cell_type": "markdown",
   "metadata": {},
   "source": [
    "## Question 2"
   ]
  },
  {
   "cell_type": "markdown",
   "metadata": {},
   "source": [
    "List Comprehension"
   ]
  },
  {
   "cell_type": "code",
   "execution_count": 26,
   "metadata": {},
   "outputs": [
    {
     "name": "stdout",
     "output_type": "stream",
     "text": [
      "['h', 'u', 'm', 'a', 'n']\n"
     ]
    }
   ],
   "source": [
    "h_letters = [ letter for letter in 'human' ]\n",
    "print( h_letters)"
   ]
  },
  {
   "cell_type": "code",
   "execution_count": 27,
   "metadata": {},
   "outputs": [
    {
     "name": "stdout",
     "output_type": "stream",
     "text": [
      "['h', 'u', 'm', 'a', 'n']\n"
     ]
    }
   ],
   "source": [
    "h_letters = []\n",
    "\n",
    "for letter in 'human':\n",
    "    h_letters.append(letter)\n",
    "\n",
    "print(h_letters)"
   ]
  },
  {
   "cell_type": "code",
   "execution_count": 28,
   "metadata": {},
   "outputs": [
    {
     "name": "stdout",
     "output_type": "stream",
     "text": [
      "[0, 2, 4, 6, 8, 10, 12, 14, 16, 18]\n"
     ]
    }
   ],
   "source": [
    "number_list = [ x for x in range(20) if x % 2 == 0]\n",
    "print(number_list)"
   ]
  },
  {
   "cell_type": "markdown",
   "metadata": {},
   "source": [
    "## Question 3"
   ]
  },
  {
   "cell_type": "code",
   "execution_count": 33,
   "metadata": {},
   "outputs": [
    {
     "name": "stdout",
     "output_type": "stream",
     "text": [
      "Please Enter a no8\n",
      "{1: 1, 2: 4, 3: 9, 4: 16, 5: 25, 6: 36, 7: 49, 8: 64}\n"
     ]
    }
   ],
   "source": [
    "dct = {}\n",
    "num = int(input('Please Enter a no'))\n",
    "for i in range(num):\n",
    "    dct[i+1] = (i+1)*(i+1) \n",
    "print(dct)    \n"
   ]
  },
  {
   "cell_type": "markdown",
   "metadata": {},
   "source": [
    "## Question 4"
   ]
  },
  {
   "cell_type": "code",
   "execution_count": 14,
   "metadata": {},
   "outputs": [
    {
     "name": "stdout",
     "output_type": "stream",
     "text": [
      "Please Enter No of Times \n",
      "4\n",
      "Choose UP , DOWN , LEFT , RIGHT with Magnitude\n",
      "Enter Your Direction : \n",
      "UP 10\n",
      "Choose UP , DOWN , LEFT , RIGHT with Magnitude\n",
      "Enter Your Direction : \n",
      "DOWN 8\n",
      "Choose UP , DOWN , LEFT , RIGHT with Magnitude\n",
      "Enter Your Direction : \n",
      "LEFT 3\n",
      "Choose UP , DOWN , LEFT , RIGHT with Magnitude\n",
      "Enter Your Direction : \n",
      "RIGHT 2\n",
      "10 8 3 2\n",
      "Result = 2\n"
     ]
    }
   ],
   "source": [
    "No = int(input(\"Please Enter No of Times \\n\"))\n",
    "up = 0 \n",
    "down = 0\n",
    "left = 0\n",
    "right = 0\n",
    "import math\n",
    "for i in range(No):\n",
    "    print(\"Choose UP , DOWN , LEFT , RIGHT with Magnitude\")\n",
    "    direction = input(\"Enter Your Direction : \\n\")\n",
    "    lst = direction.split(\" \")\n",
    "    if lst[0] == \"UP\":\n",
    "        up += int(lst[1])\n",
    "    elif lst[0] == \"DOWN\":\n",
    "        down += int(lst[1])\n",
    "    elif lst[0] == \"LEFT\":\n",
    "        left += int(lst[1])\n",
    "    elif lst[0] == \"RIGHT\":\n",
    "        right += int(lst[1])\n",
    "    else :\n",
    "        print(\"ERROR PLEASE TRY AGAIN\")\n",
    "        \n",
    "horizontal = 0;\n",
    "vertical = 0\n",
    "print(up,down,left,right)    \n",
    "if up - down > 0:\n",
    "    vertical = up - down\n",
    "elif down - up > 0:\n",
    "    vertical = down - up \n",
    "else :\n",
    "    vertical = 0\n",
    "if right - left > 0:\n",
    "    horizontal = right - left\n",
    "elif left - right > 0:\n",
    "    horizontal = left - right\n",
    "else :\n",
    "    horizontal = 0    \n",
    "num = math.sqrt(horizontal * 2 + vertical * 2)\n",
    "print(\"Result =\",round(num))\n",
    "    \n",
    "    "
   ]
  },
  {
   "cell_type": "code",
   "execution_count": null,
   "metadata": {},
   "outputs": [],
   "source": []
  },
  {
   "cell_type": "code",
   "execution_count": null,
   "metadata": {},
   "outputs": [],
   "source": []
  },
  {
   "cell_type": "code",
   "execution_count": null,
   "metadata": {},
   "outputs": [],
   "source": []
  }
 ],
 "metadata": {
  "kernelspec": {
   "display_name": "Python 3",
   "language": "python",
   "name": "python3"
  },
  "language_info": {
   "codemirror_mode": {
    "name": "ipython",
    "version": 3
   },
   "file_extension": ".py",
   "mimetype": "text/x-python",
   "name": "python",
   "nbconvert_exporter": "python",
   "pygments_lexer": "ipython3",
   "version": "3.8.3"
  }
 },
 "nbformat": 4,
 "nbformat_minor": 4
}
