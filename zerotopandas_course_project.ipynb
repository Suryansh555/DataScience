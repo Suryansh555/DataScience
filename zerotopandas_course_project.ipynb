{
  "nbformat": 4,
  "nbformat_minor": 0,
  "metadata": {
    "kernelspec": {
      "display_name": "Python 3",
      "language": "python",
      "name": "python3"
    },
    "language_info": {
      "codemirror_mode": {
        "name": "ipython",
        "version": 3
      },
      "file_extension": ".py",
      "mimetype": "text/x-python",
      "name": "python",
      "nbconvert_exporter": "python",
      "pygments_lexer": "ipython3",
      "version": "3.8.5"
    },
    "colab": {
      "name": "zerotopandas-course-project.ipynb",
      "provenance": [],
      "include_colab_link": true
    }
  },
  "cells": [
    {
      "cell_type": "markdown",
      "metadata": {
        "id": "view-in-github",
        "colab_type": "text"
      },
      "source": [
        "<a href=\"https://colab.research.google.com/github/Suryansh555/DataScience/blob/main/zerotopandas_course_project.ipynb\" target=\"_parent\"><img src=\"https://colab.research.google.com/assets/colab-badge.svg\" alt=\"Open In Colab\"/></a>"
      ]
    },
    {
      "cell_type": "code",
      "metadata": {
        "id": "YD5Fb-C_tDic"
      },
      "source": [
        "# Jovian Commit Essentials\n",
        "# Please retain and execute this cell without modifying the contents for `jovian.commit` to work\n",
        "!pip install jovian --upgrade -q\n",
        "import jovian\n",
        "jovian.utils.colab.set_colab_file_id('1zEnTNe_fvxU9XzfVPbAgAmRmKK_gmMx3')"
      ],
      "execution_count": null,
      "outputs": []
    },
    {
      "cell_type": "markdown",
      "metadata": {
        "id": "LZAOsKtOtDid"
      },
      "source": [
        "# OTT - Analysis with Visual Representation\n",
        "\n",
        "Dataset which I have chosen for this Project is from Kaggle named \"Movies on Netflix, Prime Video, Hulu and Disney+\". This project will visualize this dataset and give an idea of what movies are available in these OTT , how many movies these OTT are providing and will categorise the movies depending on their rating and their length keeping their platform in mind. This project is being build as a course Project for [Data Analysis with Python: Zero to Pandas](zerotopandas.com) where i have learned python from scratch to analysing and visualizing data using python."
      ]
    },
    {
      "cell_type": "markdown",
      "metadata": {
        "id": "sLctM8h4tDid"
      },
      "source": [
        "### How to run the code\n",
        "\n",
        "This is an executable [*Jupyter notebook*](https://jupyter.org) hosted on [Jovian.ml](https://www.jovian.ml), a platform for sharing data science projects. You can run and experiment with the code in a couple of ways: *using free online resources* (recommended) or *on your own computer*.\n",
        "\n",
        "#### Option 1: Running using free online resources (1-click, recommended)\n",
        "\n",
        "The easiest way to start executing this notebook is to click the \"Run\" button at the top of this page, and select \"Run on Binder\". This will run the notebook on [mybinder.org](https://mybinder.org), a free online service for running Jupyter notebooks. You can also select \"Run on Colab\" or \"Run on Kaggle\".\n",
        "\n",
        "\n",
        "#### Option 2: Running on your computer locally\n",
        "\n",
        "1. Install Conda by [following these instructions](https://conda.io/projects/conda/en/latest/user-guide/install/index.html). Add Conda binaries to your system `PATH`, so you can use the `conda` command on your terminal.\n",
        "\n",
        "2. Create a Conda environment and install the required libraries by running these commands on the terminal:\n",
        "\n",
        "```\n",
        "conda create -n zerotopandas -y python=3.8 \n",
        "conda activate zerotopandas\n",
        "pip install jovian jupyter numpy pandas matplotlib seaborn opendatasets --upgrade\n",
        "```\n",
        "\n",
        "3. Press the \"Clone\" button above to copy the command for downloading the notebook, and run it on the terminal. This will create a new directory and download the notebook. The command will look something like this:\n",
        "\n",
        "```\n",
        "jovian clone notebook-owner/notebook-id\n",
        "```\n",
        "\n",
        "\n",
        "\n",
        "4. Enter the newly created directory using `cd directory-name` and start the Jupyter notebook.\n",
        "\n",
        "```\n",
        "jupyter notebook\n",
        "```\n",
        "\n",
        "You can now access Jupyter's web interface by clicking the link that shows up on the terminal or by visiting http://localhost:8888 on your browser. Click on the notebook file (it has a `.ipynb` extension) to open it.\n"
      ]
    },
    {
      "cell_type": "markdown",
      "metadata": {
        "id": "LZFVvuFMtDid"
      },
      "source": [
        "## Downloading the Dataset\n",
        "\n",
        "**TODO** - The dataset needs to be downloaded from the kaggle website."
      ]
    },
    {
      "cell_type": "code",
      "metadata": {
        "id": "3i5qEK4KtDid"
      },
      "source": [
        "!pip install jovian opendatasets --upgrade --quiet"
      ],
      "execution_count": null,
      "outputs": []
    },
    {
      "cell_type": "markdown",
      "metadata": {
        "id": "GSjGKThrtDid"
      },
      "source": [
        "Let's begin by downloading the data, and listing the files within the dataset."
      ]
    },
    {
      "cell_type": "code",
      "metadata": {
        "id": "wUGNXe3gtDid"
      },
      "source": [
        "# Change this\n",
        "dataset_url = 'https://www.kaggle.com/ruchi798/movies-on-netflix-prime-video-hulu-and-disney' "
      ],
      "execution_count": null,
      "outputs": []
    },
    {
      "cell_type": "code",
      "metadata": {
        "id": "VtPOI8c0tDid"
      },
      "source": [
        ""
      ],
      "execution_count": null,
      "outputs": []
    },
    {
      "cell_type": "code",
      "metadata": {
        "id": "EsUJruEVtDid",
        "outputId": "7ffcf295-1391-4556-ac45-9c7ed43a50ad"
      },
      "source": [
        "import opendatasets as od\n",
        "od.download(dataset_url)"
      ],
      "execution_count": null,
      "outputs": [
        {
          "output_type": "stream",
          "text": [
            "Please provide your Kaggle credentials to download this dataset. Learn more: http://bit.ly/kaggle-creds\n",
            "Your Kaggle username: suryanshshrivastava\n",
            "Your Kaggle Key: ········\n"
          ],
          "name": "stdout"
        },
        {
          "output_type": "stream",
          "text": [
            "100%|██████████| 627k/627k [00:00<00:00, 138MB/s]"
          ],
          "name": "stderr"
        },
        {
          "output_type": "stream",
          "text": [
            "Downloading movies-on-netflix-prime-video-hulu-and-disney.zip to ./movies-on-netflix-prime-video-hulu-and-disney\n",
            "\n"
          ],
          "name": "stdout"
        },
        {
          "output_type": "stream",
          "text": [
            "\n"
          ],
          "name": "stderr"
        }
      ]
    },
    {
      "cell_type": "markdown",
      "metadata": {
        "id": "BIU08hW2tDif"
      },
      "source": [
        "The dataset has been downloaded and extracted."
      ]
    },
    {
      "cell_type": "code",
      "metadata": {
        "id": "uSHXavfJtDif"
      },
      "source": [
        "# Change this\n",
        "data_dir = './movies-on-netflix-prime-video-hulu-and-disney'"
      ],
      "execution_count": null,
      "outputs": []
    },
    {
      "cell_type": "code",
      "metadata": {
        "id": "ZN6nrkzztDif",
        "outputId": "5817577b-a79c-4411-bb60-90ba18a5453f"
      },
      "source": [
        "import os\n",
        "os.listdir(data_dir)"
      ],
      "execution_count": null,
      "outputs": [
        {
          "output_type": "execute_result",
          "data": {
            "text/plain": [
              "['MoviesOnStreamingPlatforms_updated.csv']"
            ]
          },
          "metadata": {
            "tags": []
          },
          "execution_count": 245
        }
      ]
    },
    {
      "cell_type": "markdown",
      "metadata": {
        "id": "pCWJK1fhtDig"
      },
      "source": [
        "Let us save and upload our work to Jovian before continuing."
      ]
    },
    {
      "cell_type": "code",
      "metadata": {
        "id": "XqUVED5JtDig"
      },
      "source": [
        "project_name = \"ott-analysis-with-visual-representation\" # change this (use lowercase letters and hyphens only)"
      ],
      "execution_count": null,
      "outputs": []
    },
    {
      "cell_type": "code",
      "metadata": {
        "id": "ItIaKZmhtDig"
      },
      "source": [
        "!pip install jovian --upgrade -q"
      ],
      "execution_count": null,
      "outputs": []
    },
    {
      "cell_type": "code",
      "metadata": {
        "id": "ylg-zWsftDig"
      },
      "source": [
        "import jovian"
      ],
      "execution_count": null,
      "outputs": []
    },
    {
      "cell_type": "code",
      "metadata": {
        "id": "vdL7-_gftDig",
        "outputId": "9d7e3e07-e51b-4184-bf30-ea014852ccaf"
      },
      "source": [
        "jovian.commit(project=project_name)"
      ],
      "execution_count": null,
      "outputs": [
        {
          "output_type": "display_data",
          "data": {
            "application/javascript": [
              "window.require && require([\"base/js/namespace\"],function(Jupyter){Jupyter.notebook.save_checkpoint()})"
            ],
            "text/plain": [
              "<IPython.core.display.Javascript object>"
            ]
          },
          "metadata": {
            "tags": []
          }
        },
        {
          "output_type": "stream",
          "text": [
            "[jovian] Attempting to save notebook..\u001b[0m\n",
            "[jovian] Updating notebook \"suryansh-may/ott-analysis-with-visual-representation\" on https://jovian.ml/\u001b[0m\n",
            "[jovian] Uploading notebook..\u001b[0m\n",
            "[jovian] Capturing environment..\u001b[0m\n",
            "[jovian] Committed successfully! https://jovian.ml/suryansh-may/ott-analysis-with-visual-representation\u001b[0m\n"
          ],
          "name": "stdout"
        },
        {
          "output_type": "execute_result",
          "data": {
            "text/plain": [
              "'https://jovian.ml/suryansh-may/ott-analysis-with-visual-representation'"
            ]
          },
          "metadata": {
            "tags": []
          },
          "execution_count": 20
        }
      ]
    },
    {
      "cell_type": "markdown",
      "metadata": {
        "id": "BzOxkpO0tDig"
      },
      "source": [
        "## Data Preparation and Cleaning\n",
        "\n",
        "We are going to see how many column and rows we have in our dataset, what are the headers of the dataset and we will replace NaN (not given values) with something so that the data can be cleaned up before visualisation.\n",
        "\n"
      ]
    },
    {
      "cell_type": "code",
      "metadata": {
        "id": "_ESpBUHdtDig"
      },
      "source": [
        "import pandas as pd\n",
        "import numpy as np\n",
        "import matplotlib.pyplot as plt\n",
        "import seaborn as sns"
      ],
      "execution_count": null,
      "outputs": []
    },
    {
      "cell_type": "code",
      "metadata": {
        "id": "eonlHfyptDig"
      },
      "source": [
        "dataset = pd.read_csv('MoviesOnStreamingPlatforms_updated.csv')"
      ],
      "execution_count": null,
      "outputs": []
    },
    {
      "cell_type": "code",
      "metadata": {
        "id": "CH_GFfaGtDig",
        "outputId": "f56ee857-9250-49e1-83a8-4a492a213e2e"
      },
      "source": [
        "dataset.head()"
      ],
      "execution_count": null,
      "outputs": [
        {
          "output_type": "execute_result",
          "data": {
            "text/html": [
              "<div>\n",
              "<style scoped>\n",
              "    .dataframe tbody tr th:only-of-type {\n",
              "        vertical-align: middle;\n",
              "    }\n",
              "\n",
              "    .dataframe tbody tr th {\n",
              "        vertical-align: top;\n",
              "    }\n",
              "\n",
              "    .dataframe thead th {\n",
              "        text-align: right;\n",
              "    }\n",
              "</style>\n",
              "<table border=\"1\" class=\"dataframe\">\n",
              "  <thead>\n",
              "    <tr style=\"text-align: right;\">\n",
              "      <th></th>\n",
              "      <th>Unnamed: 0</th>\n",
              "      <th>ID</th>\n",
              "      <th>Title</th>\n",
              "      <th>Year</th>\n",
              "      <th>Age</th>\n",
              "      <th>IMDb</th>\n",
              "      <th>Rotten Tomatoes</th>\n",
              "      <th>Netflix</th>\n",
              "      <th>Hulu</th>\n",
              "      <th>Prime Video</th>\n",
              "      <th>Disney+</th>\n",
              "      <th>Type</th>\n",
              "      <th>Directors</th>\n",
              "      <th>Genres</th>\n",
              "      <th>Country</th>\n",
              "      <th>Language</th>\n",
              "      <th>Runtime</th>\n",
              "    </tr>\n",
              "  </thead>\n",
              "  <tbody>\n",
              "    <tr>\n",
              "      <th>0</th>\n",
              "      <td>0</td>\n",
              "      <td>1</td>\n",
              "      <td>Inception</td>\n",
              "      <td>2010</td>\n",
              "      <td>13+</td>\n",
              "      <td>8.8</td>\n",
              "      <td>87%</td>\n",
              "      <td>1</td>\n",
              "      <td>0</td>\n",
              "      <td>0</td>\n",
              "      <td>0</td>\n",
              "      <td>0</td>\n",
              "      <td>Christopher Nolan</td>\n",
              "      <td>Action,Adventure,Sci-Fi,Thriller</td>\n",
              "      <td>United States,United Kingdom</td>\n",
              "      <td>English,Japanese,French</td>\n",
              "      <td>148.0</td>\n",
              "    </tr>\n",
              "    <tr>\n",
              "      <th>1</th>\n",
              "      <td>1</td>\n",
              "      <td>2</td>\n",
              "      <td>The Matrix</td>\n",
              "      <td>1999</td>\n",
              "      <td>18+</td>\n",
              "      <td>8.7</td>\n",
              "      <td>87%</td>\n",
              "      <td>1</td>\n",
              "      <td>0</td>\n",
              "      <td>0</td>\n",
              "      <td>0</td>\n",
              "      <td>0</td>\n",
              "      <td>Lana Wachowski,Lilly Wachowski</td>\n",
              "      <td>Action,Sci-Fi</td>\n",
              "      <td>United States</td>\n",
              "      <td>English</td>\n",
              "      <td>136.0</td>\n",
              "    </tr>\n",
              "    <tr>\n",
              "      <th>2</th>\n",
              "      <td>2</td>\n",
              "      <td>3</td>\n",
              "      <td>Avengers: Infinity War</td>\n",
              "      <td>2018</td>\n",
              "      <td>13+</td>\n",
              "      <td>8.5</td>\n",
              "      <td>84%</td>\n",
              "      <td>1</td>\n",
              "      <td>0</td>\n",
              "      <td>0</td>\n",
              "      <td>0</td>\n",
              "      <td>0</td>\n",
              "      <td>Anthony Russo,Joe Russo</td>\n",
              "      <td>Action,Adventure,Sci-Fi</td>\n",
              "      <td>United States</td>\n",
              "      <td>English</td>\n",
              "      <td>149.0</td>\n",
              "    </tr>\n",
              "    <tr>\n",
              "      <th>3</th>\n",
              "      <td>3</td>\n",
              "      <td>4</td>\n",
              "      <td>Back to the Future</td>\n",
              "      <td>1985</td>\n",
              "      <td>7+</td>\n",
              "      <td>8.5</td>\n",
              "      <td>96%</td>\n",
              "      <td>1</td>\n",
              "      <td>0</td>\n",
              "      <td>0</td>\n",
              "      <td>0</td>\n",
              "      <td>0</td>\n",
              "      <td>Robert Zemeckis</td>\n",
              "      <td>Adventure,Comedy,Sci-Fi</td>\n",
              "      <td>United States</td>\n",
              "      <td>English</td>\n",
              "      <td>116.0</td>\n",
              "    </tr>\n",
              "    <tr>\n",
              "      <th>4</th>\n",
              "      <td>4</td>\n",
              "      <td>5</td>\n",
              "      <td>The Good, the Bad and the Ugly</td>\n",
              "      <td>1966</td>\n",
              "      <td>18+</td>\n",
              "      <td>8.8</td>\n",
              "      <td>97%</td>\n",
              "      <td>1</td>\n",
              "      <td>0</td>\n",
              "      <td>1</td>\n",
              "      <td>0</td>\n",
              "      <td>0</td>\n",
              "      <td>Sergio Leone</td>\n",
              "      <td>Western</td>\n",
              "      <td>Italy,Spain,West Germany</td>\n",
              "      <td>Italian</td>\n",
              "      <td>161.0</td>\n",
              "    </tr>\n",
              "  </tbody>\n",
              "</table>\n",
              "</div>"
            ],
            "text/plain": [
              "   Unnamed: 0  ID                           Title  Year  Age  IMDb  \\\n",
              "0           0   1                       Inception  2010  13+   8.8   \n",
              "1           1   2                      The Matrix  1999  18+   8.7   \n",
              "2           2   3          Avengers: Infinity War  2018  13+   8.5   \n",
              "3           3   4              Back to the Future  1985   7+   8.5   \n",
              "4           4   5  The Good, the Bad and the Ugly  1966  18+   8.8   \n",
              "\n",
              "  Rotten Tomatoes  Netflix  Hulu  Prime Video  Disney+  Type  \\\n",
              "0             87%        1     0            0        0     0   \n",
              "1             87%        1     0            0        0     0   \n",
              "2             84%        1     0            0        0     0   \n",
              "3             96%        1     0            0        0     0   \n",
              "4             97%        1     0            1        0     0   \n",
              "\n",
              "                        Directors                            Genres  \\\n",
              "0               Christopher Nolan  Action,Adventure,Sci-Fi,Thriller   \n",
              "1  Lana Wachowski,Lilly Wachowski                     Action,Sci-Fi   \n",
              "2         Anthony Russo,Joe Russo           Action,Adventure,Sci-Fi   \n",
              "3                 Robert Zemeckis           Adventure,Comedy,Sci-Fi   \n",
              "4                    Sergio Leone                           Western   \n",
              "\n",
              "                        Country                 Language  Runtime  \n",
              "0  United States,United Kingdom  English,Japanese,French    148.0  \n",
              "1                 United States                  English    136.0  \n",
              "2                 United States                  English    149.0  \n",
              "3                 United States                  English    116.0  \n",
              "4      Italy,Spain,West Germany                  Italian    161.0  "
            ]
          },
          "metadata": {
            "tags": []
          },
          "execution_count": 23
        }
      ]
    },
    {
      "cell_type": "code",
      "metadata": {
        "id": "RV-MNTz5tDig",
        "outputId": "9a7a426c-f9a0-4284-8f9a-12ae8a4fa9ae"
      },
      "source": [
        "dataset.shape"
      ],
      "execution_count": null,
      "outputs": [
        {
          "output_type": "execute_result",
          "data": {
            "text/plain": [
              "(16744, 17)"
            ]
          },
          "metadata": {
            "tags": []
          },
          "execution_count": 24
        }
      ]
    },
    {
      "cell_type": "code",
      "metadata": {
        "id": "kELC-zhztDih",
        "outputId": "94fff82b-816f-4282-f995-583355ed9252"
      },
      "source": [
        "dataset.columns"
      ],
      "execution_count": null,
      "outputs": [
        {
          "output_type": "execute_result",
          "data": {
            "text/plain": [
              "Index(['Unnamed: 0', 'ID', 'Title', 'Year', 'Age', 'IMDb', 'Rotten Tomatoes',\n",
              "       'Netflix', 'Hulu', 'Prime Video', 'Disney+', 'Type', 'Directors',\n",
              "       'Genres', 'Country', 'Language', 'Runtime'],\n",
              "      dtype='object')"
            ]
          },
          "metadata": {
            "tags": []
          },
          "execution_count": 25
        }
      ]
    },
    {
      "cell_type": "code",
      "metadata": {
        "id": "lAUencrItDih",
        "outputId": "a86def32-eb12-4bd0-a20b-cb981dffa522"
      },
      "source": [
        "dataset.info()"
      ],
      "execution_count": null,
      "outputs": [
        {
          "output_type": "stream",
          "text": [
            "<class 'pandas.core.frame.DataFrame'>\n",
            "RangeIndex: 16744 entries, 0 to 16743\n",
            "Data columns (total 17 columns):\n",
            " #   Column           Non-Null Count  Dtype  \n",
            "---  ------           --------------  -----  \n",
            " 0   Unnamed: 0       16744 non-null  int64  \n",
            " 1   ID               16744 non-null  int64  \n",
            " 2   Title            16744 non-null  object \n",
            " 3   Year             16744 non-null  int64  \n",
            " 4   Age              7354 non-null   object \n",
            " 5   IMDb             16173 non-null  float64\n",
            " 6   Rotten Tomatoes  5158 non-null   object \n",
            " 7   Netflix          16744 non-null  int64  \n",
            " 8   Hulu             16744 non-null  int64  \n",
            " 9   Prime Video      16744 non-null  int64  \n",
            " 10  Disney+          16744 non-null  int64  \n",
            " 11  Type             16744 non-null  int64  \n",
            " 12  Directors        16018 non-null  object \n",
            " 13  Genres           16469 non-null  object \n",
            " 14  Country          16309 non-null  object \n",
            " 15  Language         16145 non-null  object \n",
            " 16  Runtime          16152 non-null  float64\n",
            "dtypes: float64(2), int64(8), object(7)\n",
            "memory usage: 2.2+ MB\n"
          ],
          "name": "stdout"
        }
      ]
    },
    {
      "cell_type": "code",
      "metadata": {
        "scrolled": true,
        "id": "6JCzSX0VtDih",
        "outputId": "8809cebe-c137-484f-ac15-ccff0c8b5ed4"
      },
      "source": [
        "dataset.sort_values('Year', ascending=True).head(10)"
      ],
      "execution_count": null,
      "outputs": [
        {
          "output_type": "execute_result",
          "data": {
            "text/html": [
              "<div>\n",
              "<style scoped>\n",
              "    .dataframe tbody tr th:only-of-type {\n",
              "        vertical-align: middle;\n",
              "    }\n",
              "\n",
              "    .dataframe tbody tr th {\n",
              "        vertical-align: top;\n",
              "    }\n",
              "\n",
              "    .dataframe thead th {\n",
              "        text-align: right;\n",
              "    }\n",
              "</style>\n",
              "<table border=\"1\" class=\"dataframe\">\n",
              "  <thead>\n",
              "    <tr style=\"text-align: right;\">\n",
              "      <th></th>\n",
              "      <th>Unnamed: 0</th>\n",
              "      <th>ID</th>\n",
              "      <th>Title</th>\n",
              "      <th>Year</th>\n",
              "      <th>Age</th>\n",
              "      <th>IMDb</th>\n",
              "      <th>Rotten Tomatoes</th>\n",
              "      <th>Netflix</th>\n",
              "      <th>Hulu</th>\n",
              "      <th>Prime Video</th>\n",
              "      <th>Disney+</th>\n",
              "      <th>Type</th>\n",
              "      <th>Directors</th>\n",
              "      <th>Genres</th>\n",
              "      <th>Country</th>\n",
              "      <th>Language</th>\n",
              "      <th>Runtime</th>\n",
              "    </tr>\n",
              "  </thead>\n",
              "  <tbody>\n",
              "    <tr>\n",
              "      <th>4467</th>\n",
              "      <td>4467</td>\n",
              "      <td>4468</td>\n",
              "      <td>A Trip to the Moon</td>\n",
              "      <td>1902</td>\n",
              "      <td>all</td>\n",
              "      <td>8.2</td>\n",
              "      <td>100%</td>\n",
              "      <td>0</td>\n",
              "      <td>0</td>\n",
              "      <td>1</td>\n",
              "      <td>0</td>\n",
              "      <td>0</td>\n",
              "      <td>Georges Méliès</td>\n",
              "      <td>Short,Action,Adventure,Comedy,Fantasy,Sci-Fi</td>\n",
              "      <td>France</td>\n",
              "      <td>None,French</td>\n",
              "      <td>13.0</td>\n",
              "    </tr>\n",
              "    <tr>\n",
              "      <th>8795</th>\n",
              "      <td>8795</td>\n",
              "      <td>8796</td>\n",
              "      <td>From the Manger to the Cross</td>\n",
              "      <td>1912</td>\n",
              "      <td>7+</td>\n",
              "      <td>5.7</td>\n",
              "      <td>NaN</td>\n",
              "      <td>0</td>\n",
              "      <td>0</td>\n",
              "      <td>1</td>\n",
              "      <td>0</td>\n",
              "      <td>0</td>\n",
              "      <td>Sidney Olcott</td>\n",
              "      <td>Biography,Drama</td>\n",
              "      <td>United States</td>\n",
              "      <td>English</td>\n",
              "      <td>60.0</td>\n",
              "    </tr>\n",
              "    <tr>\n",
              "      <th>9917</th>\n",
              "      <td>9917</td>\n",
              "      <td>9918</td>\n",
              "      <td>Fatty Joins the Force</td>\n",
              "      <td>1913</td>\n",
              "      <td>NaN</td>\n",
              "      <td>5.3</td>\n",
              "      <td>NaN</td>\n",
              "      <td>0</td>\n",
              "      <td>0</td>\n",
              "      <td>1</td>\n",
              "      <td>0</td>\n",
              "      <td>0</td>\n",
              "      <td>George Nichols</td>\n",
              "      <td>Comedy,Short</td>\n",
              "      <td>United States</td>\n",
              "      <td>English</td>\n",
              "      <td>12.0</td>\n",
              "    </tr>\n",
              "    <tr>\n",
              "      <th>10170</th>\n",
              "      <td>10170</td>\n",
              "      <td>10171</td>\n",
              "      <td>The Speed Kings</td>\n",
              "      <td>1913</td>\n",
              "      <td>NaN</td>\n",
              "      <td>5.0</td>\n",
              "      <td>NaN</td>\n",
              "      <td>0</td>\n",
              "      <td>0</td>\n",
              "      <td>1</td>\n",
              "      <td>0</td>\n",
              "      <td>0</td>\n",
              "      <td>Wilfred Lucas</td>\n",
              "      <td>Short,Action,Comedy</td>\n",
              "      <td>United States</td>\n",
              "      <td>English</td>\n",
              "      <td>8.0</td>\n",
              "    </tr>\n",
              "    <tr>\n",
              "      <th>6257</th>\n",
              "      <td>6257</td>\n",
              "      <td>6258</td>\n",
              "      <td>A Fool There Was</td>\n",
              "      <td>1915</td>\n",
              "      <td>NaN</td>\n",
              "      <td>5.8</td>\n",
              "      <td>80%</td>\n",
              "      <td>0</td>\n",
              "      <td>0</td>\n",
              "      <td>1</td>\n",
              "      <td>0</td>\n",
              "      <td>0</td>\n",
              "      <td>Frank Powell</td>\n",
              "      <td>Drama</td>\n",
              "      <td>United States</td>\n",
              "      <td>English</td>\n",
              "      <td>67.0</td>\n",
              "    </tr>\n",
              "    <tr>\n",
              "      <th>10649</th>\n",
              "      <td>10649</td>\n",
              "      <td>10650</td>\n",
              "      <td>Mabel, Fatty and the Law</td>\n",
              "      <td>1915</td>\n",
              "      <td>NaN</td>\n",
              "      <td>5.3</td>\n",
              "      <td>NaN</td>\n",
              "      <td>0</td>\n",
              "      <td>0</td>\n",
              "      <td>1</td>\n",
              "      <td>0</td>\n",
              "      <td>0</td>\n",
              "      <td>Roscoe 'Fatty' Arbuckle</td>\n",
              "      <td>Comedy,Short</td>\n",
              "      <td>United States</td>\n",
              "      <td>English</td>\n",
              "      <td>11.0</td>\n",
              "    </tr>\n",
              "    <tr>\n",
              "      <th>4912</th>\n",
              "      <td>4912</td>\n",
              "      <td>4913</td>\n",
              "      <td>The Birth of a Nation</td>\n",
              "      <td>1915</td>\n",
              "      <td>7+</td>\n",
              "      <td>6.4</td>\n",
              "      <td>93%</td>\n",
              "      <td>0</td>\n",
              "      <td>0</td>\n",
              "      <td>1</td>\n",
              "      <td>0</td>\n",
              "      <td>0</td>\n",
              "      <td>D.W. Griffith</td>\n",
              "      <td>Drama,History,War</td>\n",
              "      <td>United States</td>\n",
              "      <td>None</td>\n",
              "      <td>195.0</td>\n",
              "    </tr>\n",
              "    <tr>\n",
              "      <th>11524</th>\n",
              "      <td>11524</td>\n",
              "      <td>11525</td>\n",
              "      <td>Her Painted Hero</td>\n",
              "      <td>1915</td>\n",
              "      <td>NaN</td>\n",
              "      <td>4.7</td>\n",
              "      <td>NaN</td>\n",
              "      <td>0</td>\n",
              "      <td>0</td>\n",
              "      <td>1</td>\n",
              "      <td>0</td>\n",
              "      <td>0</td>\n",
              "      <td>F. Richard Jones</td>\n",
              "      <td>Comedy,Short</td>\n",
              "      <td>United States</td>\n",
              "      <td>English</td>\n",
              "      <td>21.0</td>\n",
              "    </tr>\n",
              "    <tr>\n",
              "      <th>4619</th>\n",
              "      <td>4619</td>\n",
              "      <td>4620</td>\n",
              "      <td>Intolerance: Love's Struggle Throughout the Ages</td>\n",
              "      <td>1916</td>\n",
              "      <td>NaN</td>\n",
              "      <td>7.8</td>\n",
              "      <td>97%</td>\n",
              "      <td>0</td>\n",
              "      <td>0</td>\n",
              "      <td>1</td>\n",
              "      <td>0</td>\n",
              "      <td>0</td>\n",
              "      <td>D.W. Griffith</td>\n",
              "      <td>Drama,History</td>\n",
              "      <td>United States</td>\n",
              "      <td>English</td>\n",
              "      <td>163.0</td>\n",
              "    </tr>\n",
              "    <tr>\n",
              "      <th>9095</th>\n",
              "      <td>9095</td>\n",
              "      <td>9096</td>\n",
              "      <td>A Romance of the Redwoods</td>\n",
              "      <td>1917</td>\n",
              "      <td>NaN</td>\n",
              "      <td>5.7</td>\n",
              "      <td>NaN</td>\n",
              "      <td>0</td>\n",
              "      <td>0</td>\n",
              "      <td>1</td>\n",
              "      <td>0</td>\n",
              "      <td>0</td>\n",
              "      <td>Cecil B. DeMille</td>\n",
              "      <td>Adventure,Comedy,Drama,History,Romance,Western</td>\n",
              "      <td>United States</td>\n",
              "      <td>NaN</td>\n",
              "      <td>91.0</td>\n",
              "    </tr>\n",
              "  </tbody>\n",
              "</table>\n",
              "</div>"
            ],
            "text/plain": [
              "       Unnamed: 0     ID                                             Title  \\\n",
              "4467         4467   4468                                A Trip to the Moon   \n",
              "8795         8795   8796                      From the Manger to the Cross   \n",
              "9917         9917   9918                             Fatty Joins the Force   \n",
              "10170       10170  10171                                   The Speed Kings   \n",
              "6257         6257   6258                                  A Fool There Was   \n",
              "10649       10649  10650                          Mabel, Fatty and the Law   \n",
              "4912         4912   4913                             The Birth of a Nation   \n",
              "11524       11524  11525                                  Her Painted Hero   \n",
              "4619         4619   4620  Intolerance: Love's Struggle Throughout the Ages   \n",
              "9095         9095   9096                         A Romance of the Redwoods   \n",
              "\n",
              "       Year  Age  IMDb Rotten Tomatoes  Netflix  Hulu  Prime Video  Disney+  \\\n",
              "4467   1902  all   8.2            100%        0     0            1        0   \n",
              "8795   1912   7+   5.7             NaN        0     0            1        0   \n",
              "9917   1913  NaN   5.3             NaN        0     0            1        0   \n",
              "10170  1913  NaN   5.0             NaN        0     0            1        0   \n",
              "6257   1915  NaN   5.8             80%        0     0            1        0   \n",
              "10649  1915  NaN   5.3             NaN        0     0            1        0   \n",
              "4912   1915   7+   6.4             93%        0     0            1        0   \n",
              "11524  1915  NaN   4.7             NaN        0     0            1        0   \n",
              "4619   1916  NaN   7.8             97%        0     0            1        0   \n",
              "9095   1917  NaN   5.7             NaN        0     0            1        0   \n",
              "\n",
              "       Type                Directors  \\\n",
              "4467      0           Georges Méliès   \n",
              "8795      0            Sidney Olcott   \n",
              "9917      0           George Nichols   \n",
              "10170     0            Wilfred Lucas   \n",
              "6257      0             Frank Powell   \n",
              "10649     0  Roscoe 'Fatty' Arbuckle   \n",
              "4912      0            D.W. Griffith   \n",
              "11524     0         F. Richard Jones   \n",
              "4619      0            D.W. Griffith   \n",
              "9095      0         Cecil B. DeMille   \n",
              "\n",
              "                                               Genres        Country  \\\n",
              "4467     Short,Action,Adventure,Comedy,Fantasy,Sci-Fi         France   \n",
              "8795                                  Biography,Drama  United States   \n",
              "9917                                     Comedy,Short  United States   \n",
              "10170                             Short,Action,Comedy  United States   \n",
              "6257                                            Drama  United States   \n",
              "10649                                    Comedy,Short  United States   \n",
              "4912                                Drama,History,War  United States   \n",
              "11524                                    Comedy,Short  United States   \n",
              "4619                                    Drama,History  United States   \n",
              "9095   Adventure,Comedy,Drama,History,Romance,Western  United States   \n",
              "\n",
              "          Language  Runtime  \n",
              "4467   None,French     13.0  \n",
              "8795       English     60.0  \n",
              "9917       English     12.0  \n",
              "10170      English      8.0  \n",
              "6257       English     67.0  \n",
              "10649      English     11.0  \n",
              "4912          None    195.0  \n",
              "11524      English     21.0  \n",
              "4619       English    163.0  \n",
              "9095           NaN     91.0  "
            ]
          },
          "metadata": {
            "tags": []
          },
          "execution_count": 27
        }
      ]
    },
    {
      "cell_type": "code",
      "metadata": {
        "scrolled": true,
        "id": "XjqXnRA2tDih",
        "outputId": "7848bbcf-9fcf-419d-a931-89ad90742264"
      },
      "source": [
        "dataset.replace(np.nan,\"Not Calculated\")"
      ],
      "execution_count": null,
      "outputs": [
        {
          "output_type": "execute_result",
          "data": {
            "text/html": [
              "<div>\n",
              "<style scoped>\n",
              "    .dataframe tbody tr th:only-of-type {\n",
              "        vertical-align: middle;\n",
              "    }\n",
              "\n",
              "    .dataframe tbody tr th {\n",
              "        vertical-align: top;\n",
              "    }\n",
              "\n",
              "    .dataframe thead th {\n",
              "        text-align: right;\n",
              "    }\n",
              "</style>\n",
              "<table border=\"1\" class=\"dataframe\">\n",
              "  <thead>\n",
              "    <tr style=\"text-align: right;\">\n",
              "      <th></th>\n",
              "      <th>Unnamed: 0</th>\n",
              "      <th>ID</th>\n",
              "      <th>Title</th>\n",
              "      <th>Year</th>\n",
              "      <th>Age</th>\n",
              "      <th>IMDb</th>\n",
              "      <th>Rotten Tomatoes</th>\n",
              "      <th>Netflix</th>\n",
              "      <th>Hulu</th>\n",
              "      <th>Prime Video</th>\n",
              "      <th>Disney+</th>\n",
              "      <th>Type</th>\n",
              "      <th>Directors</th>\n",
              "      <th>Genres</th>\n",
              "      <th>Country</th>\n",
              "      <th>Language</th>\n",
              "      <th>Runtime</th>\n",
              "    </tr>\n",
              "  </thead>\n",
              "  <tbody>\n",
              "    <tr>\n",
              "      <th>0</th>\n",
              "      <td>0</td>\n",
              "      <td>1</td>\n",
              "      <td>Inception</td>\n",
              "      <td>2010</td>\n",
              "      <td>13+</td>\n",
              "      <td>8.8</td>\n",
              "      <td>87%</td>\n",
              "      <td>1</td>\n",
              "      <td>0</td>\n",
              "      <td>0</td>\n",
              "      <td>0</td>\n",
              "      <td>0</td>\n",
              "      <td>Christopher Nolan</td>\n",
              "      <td>Action,Adventure,Sci-Fi,Thriller</td>\n",
              "      <td>United States,United Kingdom</td>\n",
              "      <td>English,Japanese,French</td>\n",
              "      <td>148</td>\n",
              "    </tr>\n",
              "    <tr>\n",
              "      <th>1</th>\n",
              "      <td>1</td>\n",
              "      <td>2</td>\n",
              "      <td>The Matrix</td>\n",
              "      <td>1999</td>\n",
              "      <td>18+</td>\n",
              "      <td>8.7</td>\n",
              "      <td>87%</td>\n",
              "      <td>1</td>\n",
              "      <td>0</td>\n",
              "      <td>0</td>\n",
              "      <td>0</td>\n",
              "      <td>0</td>\n",
              "      <td>Lana Wachowski,Lilly Wachowski</td>\n",
              "      <td>Action,Sci-Fi</td>\n",
              "      <td>United States</td>\n",
              "      <td>English</td>\n",
              "      <td>136</td>\n",
              "    </tr>\n",
              "    <tr>\n",
              "      <th>2</th>\n",
              "      <td>2</td>\n",
              "      <td>3</td>\n",
              "      <td>Avengers: Infinity War</td>\n",
              "      <td>2018</td>\n",
              "      <td>13+</td>\n",
              "      <td>8.5</td>\n",
              "      <td>84%</td>\n",
              "      <td>1</td>\n",
              "      <td>0</td>\n",
              "      <td>0</td>\n",
              "      <td>0</td>\n",
              "      <td>0</td>\n",
              "      <td>Anthony Russo,Joe Russo</td>\n",
              "      <td>Action,Adventure,Sci-Fi</td>\n",
              "      <td>United States</td>\n",
              "      <td>English</td>\n",
              "      <td>149</td>\n",
              "    </tr>\n",
              "    <tr>\n",
              "      <th>3</th>\n",
              "      <td>3</td>\n",
              "      <td>4</td>\n",
              "      <td>Back to the Future</td>\n",
              "      <td>1985</td>\n",
              "      <td>7+</td>\n",
              "      <td>8.5</td>\n",
              "      <td>96%</td>\n",
              "      <td>1</td>\n",
              "      <td>0</td>\n",
              "      <td>0</td>\n",
              "      <td>0</td>\n",
              "      <td>0</td>\n",
              "      <td>Robert Zemeckis</td>\n",
              "      <td>Adventure,Comedy,Sci-Fi</td>\n",
              "      <td>United States</td>\n",
              "      <td>English</td>\n",
              "      <td>116</td>\n",
              "    </tr>\n",
              "    <tr>\n",
              "      <th>4</th>\n",
              "      <td>4</td>\n",
              "      <td>5</td>\n",
              "      <td>The Good, the Bad and the Ugly</td>\n",
              "      <td>1966</td>\n",
              "      <td>18+</td>\n",
              "      <td>8.8</td>\n",
              "      <td>97%</td>\n",
              "      <td>1</td>\n",
              "      <td>0</td>\n",
              "      <td>1</td>\n",
              "      <td>0</td>\n",
              "      <td>0</td>\n",
              "      <td>Sergio Leone</td>\n",
              "      <td>Western</td>\n",
              "      <td>Italy,Spain,West Germany</td>\n",
              "      <td>Italian</td>\n",
              "      <td>161</td>\n",
              "    </tr>\n",
              "    <tr>\n",
              "      <th>...</th>\n",
              "      <td>...</td>\n",
              "      <td>...</td>\n",
              "      <td>...</td>\n",
              "      <td>...</td>\n",
              "      <td>...</td>\n",
              "      <td>...</td>\n",
              "      <td>...</td>\n",
              "      <td>...</td>\n",
              "      <td>...</td>\n",
              "      <td>...</td>\n",
              "      <td>...</td>\n",
              "      <td>...</td>\n",
              "      <td>...</td>\n",
              "      <td>...</td>\n",
              "      <td>...</td>\n",
              "      <td>...</td>\n",
              "      <td>...</td>\n",
              "    </tr>\n",
              "    <tr>\n",
              "      <th>16739</th>\n",
              "      <td>16739</td>\n",
              "      <td>16740</td>\n",
              "      <td>The Ghosts of Buxley Hall</td>\n",
              "      <td>1980</td>\n",
              "      <td>Not Calculated</td>\n",
              "      <td>6.2</td>\n",
              "      <td>Not Calculated</td>\n",
              "      <td>0</td>\n",
              "      <td>0</td>\n",
              "      <td>0</td>\n",
              "      <td>1</td>\n",
              "      <td>0</td>\n",
              "      <td>Bruce Bilson</td>\n",
              "      <td>Comedy,Family,Fantasy,Horror</td>\n",
              "      <td>United States</td>\n",
              "      <td>English</td>\n",
              "      <td>120</td>\n",
              "    </tr>\n",
              "    <tr>\n",
              "      <th>16740</th>\n",
              "      <td>16740</td>\n",
              "      <td>16741</td>\n",
              "      <td>The Poof Point</td>\n",
              "      <td>2001</td>\n",
              "      <td>7+</td>\n",
              "      <td>4.7</td>\n",
              "      <td>Not Calculated</td>\n",
              "      <td>0</td>\n",
              "      <td>0</td>\n",
              "      <td>0</td>\n",
              "      <td>1</td>\n",
              "      <td>0</td>\n",
              "      <td>Neal Israel</td>\n",
              "      <td>Comedy,Family,Sci-Fi</td>\n",
              "      <td>United States</td>\n",
              "      <td>English</td>\n",
              "      <td>90</td>\n",
              "    </tr>\n",
              "    <tr>\n",
              "      <th>16741</th>\n",
              "      <td>16741</td>\n",
              "      <td>16742</td>\n",
              "      <td>Sharks of Lost Island</td>\n",
              "      <td>2013</td>\n",
              "      <td>Not Calculated</td>\n",
              "      <td>5.7</td>\n",
              "      <td>Not Calculated</td>\n",
              "      <td>0</td>\n",
              "      <td>0</td>\n",
              "      <td>0</td>\n",
              "      <td>1</td>\n",
              "      <td>0</td>\n",
              "      <td>Neil Gelinas</td>\n",
              "      <td>Documentary</td>\n",
              "      <td>United States</td>\n",
              "      <td>English</td>\n",
              "      <td>Not Calculated</td>\n",
              "    </tr>\n",
              "    <tr>\n",
              "      <th>16742</th>\n",
              "      <td>16742</td>\n",
              "      <td>16743</td>\n",
              "      <td>Man Among Cheetahs</td>\n",
              "      <td>2017</td>\n",
              "      <td>Not Calculated</td>\n",
              "      <td>6.6</td>\n",
              "      <td>Not Calculated</td>\n",
              "      <td>0</td>\n",
              "      <td>0</td>\n",
              "      <td>0</td>\n",
              "      <td>1</td>\n",
              "      <td>0</td>\n",
              "      <td>Richard Slater-Jones</td>\n",
              "      <td>Documentary</td>\n",
              "      <td>United States</td>\n",
              "      <td>English</td>\n",
              "      <td>Not Calculated</td>\n",
              "    </tr>\n",
              "    <tr>\n",
              "      <th>16743</th>\n",
              "      <td>16743</td>\n",
              "      <td>16744</td>\n",
              "      <td>In Beaver Valley</td>\n",
              "      <td>1950</td>\n",
              "      <td>Not Calculated</td>\n",
              "      <td>Not Calculated</td>\n",
              "      <td>Not Calculated</td>\n",
              "      <td>0</td>\n",
              "      <td>0</td>\n",
              "      <td>0</td>\n",
              "      <td>1</td>\n",
              "      <td>0</td>\n",
              "      <td>James Algar</td>\n",
              "      <td>Documentary,Short,Family</td>\n",
              "      <td>United States</td>\n",
              "      <td>English</td>\n",
              "      <td>32</td>\n",
              "    </tr>\n",
              "  </tbody>\n",
              "</table>\n",
              "<p>16744 rows × 17 columns</p>\n",
              "</div>"
            ],
            "text/plain": [
              "       Unnamed: 0     ID                           Title  Year  \\\n",
              "0               0      1                       Inception  2010   \n",
              "1               1      2                      The Matrix  1999   \n",
              "2               2      3          Avengers: Infinity War  2018   \n",
              "3               3      4              Back to the Future  1985   \n",
              "4               4      5  The Good, the Bad and the Ugly  1966   \n",
              "...           ...    ...                             ...   ...   \n",
              "16739       16739  16740       The Ghosts of Buxley Hall  1980   \n",
              "16740       16740  16741                  The Poof Point  2001   \n",
              "16741       16741  16742           Sharks of Lost Island  2013   \n",
              "16742       16742  16743              Man Among Cheetahs  2017   \n",
              "16743       16743  16744                In Beaver Valley  1950   \n",
              "\n",
              "                  Age            IMDb Rotten Tomatoes  Netflix  Hulu  \\\n",
              "0                 13+             8.8             87%        1     0   \n",
              "1                 18+             8.7             87%        1     0   \n",
              "2                 13+             8.5             84%        1     0   \n",
              "3                  7+             8.5             96%        1     0   \n",
              "4                 18+             8.8             97%        1     0   \n",
              "...               ...             ...             ...      ...   ...   \n",
              "16739  Not Calculated             6.2  Not Calculated        0     0   \n",
              "16740              7+             4.7  Not Calculated        0     0   \n",
              "16741  Not Calculated             5.7  Not Calculated        0     0   \n",
              "16742  Not Calculated             6.6  Not Calculated        0     0   \n",
              "16743  Not Calculated  Not Calculated  Not Calculated        0     0   \n",
              "\n",
              "       Prime Video  Disney+  Type                       Directors  \\\n",
              "0                0        0     0               Christopher Nolan   \n",
              "1                0        0     0  Lana Wachowski,Lilly Wachowski   \n",
              "2                0        0     0         Anthony Russo,Joe Russo   \n",
              "3                0        0     0                 Robert Zemeckis   \n",
              "4                1        0     0                    Sergio Leone   \n",
              "...            ...      ...   ...                             ...   \n",
              "16739            0        1     0                    Bruce Bilson   \n",
              "16740            0        1     0                     Neal Israel   \n",
              "16741            0        1     0                    Neil Gelinas   \n",
              "16742            0        1     0            Richard Slater-Jones   \n",
              "16743            0        1     0                     James Algar   \n",
              "\n",
              "                                 Genres                       Country  \\\n",
              "0      Action,Adventure,Sci-Fi,Thriller  United States,United Kingdom   \n",
              "1                         Action,Sci-Fi                 United States   \n",
              "2               Action,Adventure,Sci-Fi                 United States   \n",
              "3               Adventure,Comedy,Sci-Fi                 United States   \n",
              "4                               Western      Italy,Spain,West Germany   \n",
              "...                                 ...                           ...   \n",
              "16739      Comedy,Family,Fantasy,Horror                 United States   \n",
              "16740              Comedy,Family,Sci-Fi                 United States   \n",
              "16741                       Documentary                 United States   \n",
              "16742                       Documentary                 United States   \n",
              "16743          Documentary,Short,Family                 United States   \n",
              "\n",
              "                      Language         Runtime  \n",
              "0      English,Japanese,French             148  \n",
              "1                      English             136  \n",
              "2                      English             149  \n",
              "3                      English             116  \n",
              "4                      Italian             161  \n",
              "...                        ...             ...  \n",
              "16739                  English             120  \n",
              "16740                  English              90  \n",
              "16741                  English  Not Calculated  \n",
              "16742                  English  Not Calculated  \n",
              "16743                  English              32  \n",
              "\n",
              "[16744 rows x 17 columns]"
            ]
          },
          "metadata": {
            "tags": []
          },
          "execution_count": 143
        }
      ]
    },
    {
      "cell_type": "code",
      "metadata": {
        "id": "n12ZdooctDih"
      },
      "source": [
        "import jovian"
      ],
      "execution_count": null,
      "outputs": []
    },
    {
      "cell_type": "code",
      "metadata": {
        "id": "ay9-4fRFtDih",
        "outputId": "dd48d731-9b34-44f0-deb8-4fe7dbdf6fc1"
      },
      "source": [
        "jovian.commit()"
      ],
      "execution_count": null,
      "outputs": [
        {
          "output_type": "display_data",
          "data": {
            "application/javascript": [
              "window.require && require([\"base/js/namespace\"],function(Jupyter){Jupyter.notebook.save_checkpoint()})"
            ],
            "text/plain": [
              "<IPython.core.display.Javascript object>"
            ]
          },
          "metadata": {
            "tags": []
          }
        },
        {
          "output_type": "stream",
          "text": [
            "[jovian] Attempting to save notebook..\u001b[0m\n",
            "[jovian] Updating notebook \"suryansh-may/ott-analysis-with-visual-representation\" on https://jovian.ml/\u001b[0m\n",
            "[jovian] Uploading notebook..\u001b[0m\n",
            "[jovian] Capturing environment..\u001b[0m\n",
            "[jovian] Committed successfully! https://jovian.ml/suryansh-may/ott-analysis-with-visual-representation\u001b[0m\n"
          ],
          "name": "stdout"
        },
        {
          "output_type": "execute_result",
          "data": {
            "text/plain": [
              "'https://jovian.ml/suryansh-may/ott-analysis-with-visual-representation'"
            ]
          },
          "metadata": {
            "tags": []
          },
          "execution_count": 30
        }
      ]
    },
    {
      "cell_type": "markdown",
      "metadata": {
        "id": "zDCo2IUNtDih"
      },
      "source": [
        "## Exploratory Analysis and Visualization\n",
        "\n",
        " Now we are going to visualize useful data so that it can be presented to everyone"
      ]
    },
    {
      "cell_type": "markdown",
      "metadata": {
        "id": "C994Wc95tDih"
      },
      "source": [
        "Let's begin by importing`matplotlib.pyplot` and `seaborn`."
      ]
    },
    {
      "cell_type": "code",
      "metadata": {
        "id": "s7dFRkyitDih"
      },
      "source": [
        "import seaborn as sns\n",
        "import matplotlib\n",
        "import matplotlib.pyplot as plt\n",
        "%matplotlib inline\n",
        "\n",
        "sns.set_style('darkgrid')\n",
        "matplotlib.rcParams['font.size'] = 14\n",
        "matplotlib.rcParams['figure.figsize'] = (9, 5)\n",
        "matplotlib.rcParams['figure.facecolor'] = '#00000000'"
      ],
      "execution_count": null,
      "outputs": []
    },
    {
      "cell_type": "markdown",
      "metadata": {
        "id": "bJtbj339tDih"
      },
      "source": [
        "Dividing the data into their platforms"
      ]
    },
    {
      "cell_type": "code",
      "metadata": {
        "id": "ezXabc7itDih"
      },
      "source": [
        "netflix_movies = dataset.loc[dataset['Netflix'] == 1]\n",
        "hulu_movies = dataset.loc[dataset['Hulu'] == 1]\n",
        "prime_video_movies = dataset.loc[dataset['Prime Video'] == 1]\n",
        "disney_movies = dataset.loc[dataset['Disney+'] == 1]"
      ],
      "execution_count": null,
      "outputs": []
    },
    {
      "cell_type": "code",
      "metadata": {
        "id": "DpIPt5XxtDih"
      },
      "source": [
        "index_netflix = netflix_movies.index\n",
        "total_netflix_movies = len(index_netflix)\n",
        "\n",
        "index_hulu = hulu_movies.index\n",
        "total_hulu_movies = len(index_hulu)\n",
        "\n",
        "index_prime = prime_video_movies.index\n",
        "total_prime_movies = len(index_prime)\n",
        "\n",
        "index_disney = disney_movies.index\n",
        "total_disney_movies = len(index_disney)"
      ],
      "execution_count": null,
      "outputs": []
    },
    {
      "cell_type": "code",
      "metadata": {
        "id": "fCd--u0mtDih",
        "outputId": "a0500849-08e1-4e51-9195-60ed5a979b68"
      },
      "source": [
        "labels = 'Netflix' , 'Hulu', 'Prime Video', 'Disney+'\n",
        "sizes = [total_netflix_movies,total_hulu_movies,total_prime_movies,total_disney_movies]\n",
        "explode = (0.1, 0.1, 0.1, 0.1 )\n",
        "\n",
        "fig1 , ax1 = plt.subplots()\n",
        "\n",
        "ax1.pie(sizes,\n",
        "        explode = explode,\n",
        "        labels = labels,\n",
        "        autopct = '%1.1f%%',\n",
        "        shadow = True,\n",
        "        startangle = 100)\n",
        "\n",
        "ax1.axis ('equal')\n",
        "plt.show()"
      ],
      "execution_count": null,
      "outputs": [
        {
          "output_type": "display_data",
          "data": {
            "image/png": "[encoded data removed]",
            "text/plain": [
              "<Figure size 648x360 with 1 Axes>"
            ]
          },
          "metadata": {
            "tags": []
          }
        }
      ]
    },
    {
      "cell_type": "markdown",
      "metadata": {
        "id": "trJymZDdtDih"
      },
      "source": [
        "Based on Rating :-"
      ]
    },
    {
      "cell_type": "code",
      "metadata": {
        "id": "hSp49nBFtDii",
        "outputId": "ed2e44aa-f84f-4055-d77b-33fdf700eef9"
      },
      "source": [
        "# streaming platform with most movies above 8+ rating (IMDb)\n",
        "rate_mov_net = netflix_movies['IMDb'] > 8\n",
        "print(\"Total Movies on Netflix with more than 8+ rating(IMDb) :\",rate_mov_net.sum())"
      ],
      "execution_count": null,
      "outputs": [
        {
          "output_type": "stream",
          "text": [
            "Total Movies on Netflix with more than 8+ rating(IMDb) : 129\n"
          ],
          "name": "stdout"
        }
      ]
    },
    {
      "cell_type": "code",
      "metadata": {
        "id": "p-BLHyT_tDii",
        "outputId": "8584ab5f-24d1-477b-915a-d46b3cbae24a"
      },
      "source": [
        "rate_mov_dis = disney_movies['IMDb'] > 8\n",
        "print(\"Total Movies on Disney+ with more than 8+ rating(IMDb) :\",rate_mov_dis.sum())"
      ],
      "execution_count": null,
      "outputs": [
        {
          "output_type": "stream",
          "text": [
            "Total Movies on Disney+ with more than 8+ rating(IMDb) : 21\n"
          ],
          "name": "stdout"
        }
      ]
    },
    {
      "cell_type": "code",
      "metadata": {
        "id": "7Tqf83tAtDii",
        "outputId": "8d0d9748-c106-4815-9e99-93a488826c5b"
      },
      "source": [
        "rate_mov_pvm = prime_video_movies['IMDb'] > 8\n",
        "print(\"Total Movies on amazon prime video with more than 8+ rating(IMDb) :\",rate_mov_pvm.sum())"
      ],
      "execution_count": null,
      "outputs": [
        {
          "output_type": "stream",
          "text": [
            "Total Movies on amazon prime video with more than 8+ rating(IMDb) : 324\n"
          ],
          "name": "stdout"
        }
      ]
    },
    {
      "cell_type": "code",
      "metadata": {
        "id": "RvPXNw8UtDii",
        "outputId": "227a752c-d2af-4831-c696-ae8d079fbeff"
      },
      "source": [
        "rate_mov_hulu = hulu_movies['IMDb'] > 8\n",
        "print(\"Total Movies on Hulu with more than 8+ rating(IMDb) :\",rate_mov_hulu.sum())"
      ],
      "execution_count": null,
      "outputs": [
        {
          "output_type": "stream",
          "text": [
            "Total Movies on Hulu with more than 8+ rating(IMDb) : 23\n"
          ],
          "name": "stdout"
        }
      ]
    },
    {
      "cell_type": "code",
      "metadata": {
        "id": "QDA-xkb5tDii"
      },
      "source": [
        "top_rated = [rate_mov_net.sum(),rate_mov_dis.sum(),rate_mov_pvm.sum(),rate_mov_hulu.sum()]\n",
        "top_plat = ['Netflix', 'Disney', 'Prime Video', 'Hulu']\n",
        "\n",
        "top_rated_data = pd.DataFrame({\n",
        "    'platforms' : ['Netflix', \n",
        "                   'Disney', \n",
        "                   'Prime Video', \n",
        "                   'Hulu'],\n",
        "    'total_mov' : [rate_mov_net.sum(),\n",
        "                   rate_mov_dis.sum(),\n",
        "                   rate_mov_pvm.sum(),\n",
        "                   rate_mov_hulu.sum()]\n",
        "})"
      ],
      "execution_count": null,
      "outputs": []
    },
    {
      "cell_type": "code",
      "metadata": {
        "id": "plA-eSeXtDii",
        "outputId": "2343d236-d11a-4a0f-99dc-d4279936392b"
      },
      "source": [
        "plt.figure(figsize = (10, 10))\n",
        "sns.barplot(data = top_rated_data,\n",
        "           x = top_rated_data['platforms'],\n",
        "           y = top_rated_data['total_mov']\n",
        ")\n",
        "plt.ylabel('Platform')\n",
        "plt.xlabel('Total number of 8+ rated movies')\n",
        "plt.title('Platform with most movies rated above 8+ (IMDB)')\n",
        "plt.show()"
      ],
      "execution_count": null,
      "outputs": [
        {
          "output_type": "display_data",
          "data": {
            "image/png": "[encoded data removed]",
            "text/plain": [
              "<Figure size 720x720 with 1 Axes>"
            ]
          },
          "metadata": {
            "tags": [],
            "needs_background": "light"
          }
        }
      ]
    },
    {
      "cell_type": "markdown",
      "metadata": {
        "id": "Gd6E-_AltDii"
      },
      "source": [
        "Runtime :-"
      ]
    },
    {
      "cell_type": "code",
      "metadata": {
        "id": "OOWoZCzEtDii",
        "outputId": "4e527368-ec3f-4a8b-e792-4b6f6f9b9954"
      },
      "source": [
        "sns.distplot(dataset['Runtime']);"
      ],
      "execution_count": null,
      "outputs": [
        {
          "output_type": "display_data",
          "data": {
            "image/png": "[encoded data removed]",
            "text/plain": [
              "<Figure size 648x360 with 1 Axes>"
            ]
          },
          "metadata": {
            "tags": [],
            "needs_background": "light"
          }
        }
      ]
    },
    {
      "cell_type": "markdown",
      "metadata": {
        "id": "qoiD-iaItDii"
      },
      "source": [
        "IMDb Rating :-"
      ]
    },
    {
      "cell_type": "code",
      "metadata": {
        "id": "kwS3RXnLtDii",
        "outputId": "c8ef178f-fa8f-4299-d5b0-2d61ad850f02"
      },
      "source": [
        "sns.distplot(dataset['IMDb']);"
      ],
      "execution_count": null,
      "outputs": [
        {
          "output_type": "display_data",
          "data": {
            "image/png": "[encoded data removed]",
            "text/plain": [
              "<Figure size 648x360 with 1 Axes>"
            ]
          },
          "metadata": {
            "tags": [],
            "needs_background": "light"
          }
        }
      ]
    },
    {
      "cell_type": "markdown",
      "metadata": {
        "id": "5D1oPhkTtDii"
      },
      "source": [
        "Let us save and upload our work to Jovian before continuing"
      ]
    },
    {
      "cell_type": "code",
      "metadata": {
        "id": "Snf0Q3V6tDii"
      },
      "source": [
        "import jovian"
      ],
      "execution_count": null,
      "outputs": []
    },
    {
      "cell_type": "code",
      "metadata": {
        "id": "Djf6tkBntDii",
        "outputId": "d0b58f2d-cd5c-4844-eada-e25ba880ef5d"
      },
      "source": [
        "jovian.commit()"
      ],
      "execution_count": null,
      "outputs": [
        {
          "output_type": "display_data",
          "data": {
            "application/javascript": [
              "window.require && require([\"base/js/namespace\"],function(Jupyter){Jupyter.notebook.save_checkpoint()})"
            ],
            "text/plain": [
              "<IPython.core.display.Javascript object>"
            ]
          },
          "metadata": {
            "tags": []
          }
        },
        {
          "output_type": "stream",
          "text": [
            "[jovian] Attempting to save notebook..\u001b[0m\n",
            "[jovian] Updating notebook \"suryansh-may/ott-analysis-with-visual-representation\" on https://jovian.ml/\u001b[0m\n",
            "[jovian] Uploading notebook..\u001b[0m\n",
            "[jovian] Capturing environment..\u001b[0m\n",
            "[jovian] Committed successfully! https://jovian.ml/suryansh-may/ott-analysis-with-visual-representation\u001b[0m\n"
          ],
          "name": "stdout"
        },
        {
          "output_type": "execute_result",
          "data": {
            "text/plain": [
              "'https://jovian.ml/suryansh-may/ott-analysis-with-visual-representation'"
            ]
          },
          "metadata": {
            "tags": []
          },
          "execution_count": 44
        }
      ]
    },
    {
      "cell_type": "markdown",
      "metadata": {
        "id": "PBE_GVpXtDii"
      },
      "source": [
        "## Asking and Answering Questions\n",
        "\n",
        "Here we will encounter some questions and we will answer them using the dataset."
      ]
    },
    {
      "cell_type": "markdown",
      "metadata": {
        "id": "9YQJoGL9tDii"
      },
      "source": [
        "#### Q1: How many Movies are there on Netflix ?"
      ]
    },
    {
      "cell_type": "code",
      "metadata": {
        "id": "Y0GBlaHrtDii"
      },
      "source": [
        "MovieOnNetflix = dataset['Netflix'].sum()"
      ],
      "execution_count": null,
      "outputs": []
    },
    {
      "cell_type": "code",
      "metadata": {
        "id": "vfxgg-g8tDii",
        "outputId": "2232f5b6-3d8a-4e2a-8f4a-1aab1f12b982"
      },
      "source": [
        "print(\"There are \" + str(MovieOnNetflix)+\" movies on Netflix\")"
      ],
      "execution_count": null,
      "outputs": [
        {
          "output_type": "stream",
          "text": [
            "There are 3560 movies on Netflix\n"
          ],
          "name": "stdout"
        }
      ]
    },
    {
      "cell_type": "markdown",
      "metadata": {
        "id": "pjBlp_3ntDii"
      },
      "source": [
        "#### Q2: How many movies on Netflix have Rotten Tomatoes Rating equal to 97% ?"
      ]
    },
    {
      "cell_type": "code",
      "metadata": {
        "id": "q2Wl1rGutDii"
      },
      "source": [
        "RottenToma = netflix_movies['Rotten Tomatoes'] == \"97%\""
      ],
      "execution_count": null,
      "outputs": []
    },
    {
      "cell_type": "code",
      "metadata": {
        "id": "kcxQL3zOtDii"
      },
      "source": [
        "Tomo = netflix_movies[RottenToma].shape[0]"
      ],
      "execution_count": null,
      "outputs": []
    },
    {
      "cell_type": "code",
      "metadata": {
        "id": "mVPQaI9otDii",
        "outputId": "41ac20ce-72c9-4d41-966d-0093d722d185"
      },
      "source": [
        "print(\"There are\",Tomo,\"movies on Netflix having Rotten Tomatoes Rating Equal to 97%\")"
      ],
      "execution_count": null,
      "outputs": [
        {
          "output_type": "stream",
          "text": [
            "There are 15 movies on Netflix having Rotten Tomatoes Rating Equal to 97%\n"
          ],
          "name": "stdout"
        }
      ]
    },
    {
      "cell_type": "markdown",
      "metadata": {
        "id": "OmuHOandtDii"
      },
      "source": [
        "#### Q3: How many Movies are common in Netflix and Amazon Prime "
      ]
    },
    {
      "cell_type": "code",
      "metadata": {
        "id": "5pvH_EbTtDii"
      },
      "source": [
        "Primeandnetflix =  netflix_movies[\"Prime Video\"] == 1"
      ],
      "execution_count": null,
      "outputs": []
    },
    {
      "cell_type": "code",
      "metadata": {
        "id": "XSYWcXdetDii"
      },
      "source": [
        "Table = netflix_movies[Primeandnetflix]"
      ],
      "execution_count": null,
      "outputs": []
    },
    {
      "cell_type": "code",
      "metadata": {
        "id": "657flohRtDii"
      },
      "source": [
        "countofnetPrime = Table.shape[0]"
      ],
      "execution_count": null,
      "outputs": []
    },
    {
      "cell_type": "code",
      "metadata": {
        "id": "2TYmULVXtDii",
        "outputId": "ae8f706d-2df3-4730-f783-6c7963cf6c7d"
      },
      "source": [
        "print(\"There are\",countofnetPrime,\"movies common in Netflix and Prime\")"
      ],
      "execution_count": null,
      "outputs": [
        {
          "output_type": "stream",
          "text": [
            "There are 345 movies common in Netflix and Prime\n"
          ],
          "name": "stdout"
        }
      ]
    },
    {
      "cell_type": "markdown",
      "metadata": {
        "id": "q-95Rs4utDij"
      },
      "source": [
        "#### Q4: How many Movies are available in Hindi Only ?"
      ]
    },
    {
      "cell_type": "code",
      "metadata": {
        "id": "KLntnlZUtDij"
      },
      "source": [
        "HindiOnly = dataset[\"Language\"] == \"Hindi\""
      ],
      "execution_count": null,
      "outputs": []
    },
    {
      "cell_type": "code",
      "metadata": {
        "id": "hhwSXxEKtDij"
      },
      "source": [
        "countHindi = dataset[HindiOnly].shape[0]"
      ],
      "execution_count": null,
      "outputs": []
    },
    {
      "cell_type": "code",
      "metadata": {
        "id": "we6zt5i8tDij",
        "outputId": "8d520d15-fca0-4361-8dfc-705721c9fa07"
      },
      "source": [
        "print(\"There are\",countHindi,\"movies are avilable which have only Hindi Audio\")"
      ],
      "execution_count": null,
      "outputs": [
        {
          "output_type": "stream",
          "text": [
            "There are 503 movies are avilable which have only Hindi Audio\n"
          ],
          "name": "stdout"
        }
      ]
    },
    {
      "cell_type": "markdown",
      "metadata": {
        "id": "4hNlTpyjtDij"
      },
      "source": [
        "#### Q5: Maximum Number of Movies by a single Director irrespective of OTT Platform ? "
      ]
    },
    {
      "cell_type": "code",
      "metadata": {
        "id": "oZGxXHX4tDij",
        "outputId": "44df555a-33f5-4cf5-9915-869f85202fb2"
      },
      "source": [
        "Directors = dataset.groupby(\"Directors\")[\"Netflix\",\"Prime Video\",\"Hulu\",\"Disney+\"].sum()"
      ],
      "execution_count": null,
      "outputs": [
        {
          "output_type": "stream",
          "text": [
            "<ipython-input-175-e479c230c709>:1: FutureWarning: Indexing with multiple keys (implicitly converted to a tuple of keys) will be deprecated, use a list instead.\n",
            "  Directors = dataset.groupby(\"Directors\")[\"Netflix\",\"Prime Video\",\"Hulu\",\"Disney+\"].sum()\n"
          ],
          "name": "stderr"
        }
      ]
    },
    {
      "cell_type": "code",
      "metadata": {
        "id": "sAZaC08WtDij"
      },
      "source": [
        "Directors_Main = Directors[\"Netflix\"] + Directors[\"Prime Video\"] + Directors[\"Hulu\"] + Directors[\"Disney+\"]"
      ],
      "execution_count": null,
      "outputs": []
    },
    {
      "cell_type": "code",
      "metadata": {
        "id": "mVraHCcntDij"
      },
      "source": [
        "Directors[\"SumofMovies\"] = Directors_Main"
      ],
      "execution_count": null,
      "outputs": []
    },
    {
      "cell_type": "code",
      "metadata": {
        "id": "Z8TVueGdtDij"
      },
      "source": [
        "HighestMovie = Directors.sort_values(\"SumofMovies\", ascending=False).head(1)"
      ],
      "execution_count": null,
      "outputs": []
    },
    {
      "cell_type": "code",
      "metadata": {
        "id": "2G8fMrRFtDij"
      },
      "source": [
        "HighestMovieByDirector = HighestMovie[\"SumofMovies\"][0]"
      ],
      "execution_count": null,
      "outputs": []
    },
    {
      "cell_type": "code",
      "metadata": {
        "id": "TAozGc6VtDij",
        "outputId": "74de0eea-03eb-45d4-af8e-4d5ee7de75e4"
      },
      "source": [
        "print(\"Maximum No of Movies By a single Director irrespective of Platform is\",HighestMovieByDirector)"
      ],
      "execution_count": null,
      "outputs": [
        {
          "output_type": "stream",
          "text": [
            "Maximum No of Movies By a single Director irrespective of Platform is 41\n"
          ],
          "name": "stdout"
        }
      ]
    },
    {
      "cell_type": "markdown",
      "metadata": {
        "id": "oNjtHSL1tDik"
      },
      "source": [
        "Let us save and upload our work to Jovian before continuing."
      ]
    },
    {
      "cell_type": "code",
      "metadata": {
        "id": "LPzmJ5eatDik"
      },
      "source": [
        "import jovian"
      ],
      "execution_count": null,
      "outputs": []
    },
    {
      "cell_type": "code",
      "metadata": {
        "id": "rzpN5o8mtDik",
        "outputId": "8a8653d6-7b8b-4089-bca7-f835914498f2"
      },
      "source": [
        "jovian.commit()"
      ],
      "execution_count": null,
      "outputs": [
        {
          "output_type": "display_data",
          "data": {
            "application/javascript": [
              "window.require && require([\"base/js/namespace\"],function(Jupyter){Jupyter.notebook.save_checkpoint()})"
            ],
            "text/plain": [
              "<IPython.core.display.Javascript object>"
            ]
          },
          "metadata": {
            "tags": []
          }
        },
        {
          "output_type": "stream",
          "text": [
            "[jovian] Attempting to save notebook..\u001b[0m\n",
            "[jovian] Updating notebook \"suryansh-may/ott-analysis-with-visual-representation\" on https://jovian.ml/\u001b[0m\n",
            "[jovian] Uploading notebook..\u001b[0m\n",
            "[jovian] Capturing environment..\u001b[0m\n",
            "[jovian] Committed successfully! https://jovian.ml/suryansh-may/ott-analysis-with-visual-representation\u001b[0m\n"
          ],
          "name": "stdout"
        },
        {
          "output_type": "execute_result",
          "data": {
            "text/plain": [
              "'https://jovian.ml/suryansh-may/ott-analysis-with-visual-representation'"
            ]
          },
          "metadata": {
            "tags": []
          },
          "execution_count": 248
        }
      ]
    },
    {
      "cell_type": "markdown",
      "metadata": {
        "id": "X7uD4wSMtDik"
      },
      "source": [
        "## Inferences and Conclusion\n",
        " \n",
        "All The OTT Platform have some movies in common. Prime Video has largest no of movies. Inspite of Prime Videos having largest no of movies , the average IMDb Rating of their movies is still more than that of other Platforms. The average IMBd Rating of all movies inspite of their platform is 6.2 Write some explanation here: a summary of all the inferences drawn from the analysis, and any conclusions you may have drawn by answering various questions."
      ]
    },
    {
      "cell_type": "code",
      "metadata": {
        "id": "-nw_UW7wtDik"
      },
      "source": [
        "import jovian"
      ],
      "execution_count": null,
      "outputs": []
    },
    {
      "cell_type": "code",
      "metadata": {
        "id": "NSstV9t-tDik",
        "outputId": "b735f19b-1fb7-488b-8106-1766f6537963"
      },
      "source": [
        "jovian.commit()"
      ],
      "execution_count": null,
      "outputs": [
        {
          "output_type": "display_data",
          "data": {
            "application/javascript": [
              "window.require && require([\"base/js/namespace\"],function(Jupyter){Jupyter.notebook.save_checkpoint()})"
            ],
            "text/plain": [
              "<IPython.core.display.Javascript object>"
            ]
          },
          "metadata": {
            "tags": []
          }
        },
        {
          "output_type": "stream",
          "text": [
            "[jovian] Attempting to save notebook..\u001b[0m\n",
            "[jovian] Updating notebook \"aakashns/zerotopandas-course-project-starter\" on https://jovian.ml/\u001b[0m\n",
            "[jovian] Uploading notebook..\u001b[0m\n",
            "[jovian] Capturing environment..\u001b[0m\n",
            "[jovian] Committed successfully! https://jovian.ml/aakashns/zerotopandas-course-project-starter\u001b[0m\n"
          ],
          "name": "stdout"
        },
        {
          "output_type": "execute_result",
          "data": {
            "text/plain": [
              "'https://jovian.ml/aakashns/zerotopandas-course-project-starter'"
            ]
          },
          "metadata": {
            "tags": []
          },
          "execution_count": 31
        }
      ]
    },
    {
      "cell_type": "markdown",
      "metadata": {
        "id": "eVeAeeiBtDik"
      },
      "source": [
        "## References and Future Work\n",
        "\n",
        "In the Future we can use Machine Learning Algorithm based on user's past movies and their prefered genre to suggest them movie based on their free time to watch with their family and friends.\n",
        "\n",
        "Refereces :-\n",
        "https://www.kaggle.com/nikhileshkos/recommended-ott-movies-shows-analysis\n",
        "\n",
        "https://www.androidauthority.com/disneyplusvsnetflix1052636/#:~:text=Disney%20Plus%20has%20a%20much,case%20for%20years%20to%20come.&text=If%20you%20are%20looking%20for,edgier%2C%20Netflix%20wins%20hands%20down.\n",
        "\n"
      ]
    },
    {
      "cell_type": "code",
      "metadata": {
        "id": "BskrsphTtDik"
      },
      "source": [
        "import jovian\n"
      ],
      "execution_count": null,
      "outputs": []
    },
    {
      "cell_type": "code",
      "metadata": {
        "scrolled": true,
        "id": "nRQHpquqtDik",
        "outputId": "b2d34027-8b02-4f67-dc17-f00cd7f60be6"
      },
      "source": [
        "jovian.commit()"
      ],
      "execution_count": null,
      "outputs": [
        {
          "output_type": "display_data",
          "data": {
            "application/javascript": [
              "window.require && require([\"base/js/namespace\"],function(Jupyter){Jupyter.notebook.save_checkpoint()})"
            ],
            "text/plain": [
              "<IPython.core.display.Javascript object>"
            ]
          },
          "metadata": {
            "tags": []
          }
        },
        {
          "output_type": "stream",
          "text": [
            "[jovian] Attempting to save notebook..\u001b[0m\n",
            "[jovian] Updating notebook \"suryansh-may/ott-analysis-with-visual-representation\" on https://jovian.ml/\u001b[0m\n",
            "[jovian] Uploading notebook..\u001b[0m\n",
            "[jovian] Capturing environment..\u001b[0m\n",
            "[jovian] Committed successfully! https://jovian.ml/suryansh-may/ott-analysis-with-visual-representation\u001b[0m\n"
          ],
          "name": "stdout"
        },
        {
          "output_type": "execute_result",
          "data": {
            "text/plain": [
              "'https://jovian.ml/suryansh-may/ott-analysis-with-visual-representation'"
            ]
          },
          "metadata": {
            "tags": []
          },
          "execution_count": 122
        }
      ]
    }
  ]
}